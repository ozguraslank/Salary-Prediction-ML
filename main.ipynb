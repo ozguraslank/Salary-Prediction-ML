{
 "cells": [
  {
   "cell_type": "code",
   "execution_count": 351,
   "metadata": {},
   "outputs": [],
   "source": [
    "import numpy as np\n",
    "import seaborn as sns\n",
    "import pandas as pd"
   ]
  },
  {
   "cell_type": "code",
   "execution_count": 352,
   "metadata": {},
   "outputs": [],
   "source": [
    "df = pd.read_excel(\"Data/Data_file.xlsx\")   # Importing Data"
   ]
  },
  {
   "cell_type": "code",
   "execution_count": 353,
   "metadata": {},
   "outputs": [
    {
     "data": {
      "text/html": [
       "<div>\n",
       "<style scoped>\n",
       "    .dataframe tbody tr th:only-of-type {\n",
       "        vertical-align: middle;\n",
       "    }\n",
       "\n",
       "    .dataframe tbody tr th {\n",
       "        vertical-align: top;\n",
       "    }\n",
       "\n",
       "    .dataframe thead th {\n",
       "        text-align: right;\n",
       "    }\n",
       "</style>\n",
       "<table border=\"1\" class=\"dataframe\">\n",
       "  <thead>\n",
       "    <tr style=\"text-align: right;\">\n",
       "      <th></th>\n",
       "      <th>S.No.</th>\n",
       "      <th>College</th>\n",
       "      <th>Role</th>\n",
       "      <th>City type</th>\n",
       "      <th>Previous CTC</th>\n",
       "      <th>Previous job changes</th>\n",
       "      <th>Graduation marks</th>\n",
       "      <th>Exp (Months)</th>\n",
       "      <th>CTC</th>\n",
       "    </tr>\n",
       "  </thead>\n",
       "  <tbody>\n",
       "    <tr>\n",
       "      <th>0</th>\n",
       "      <td>1</td>\n",
       "      <td>Tier 1</td>\n",
       "      <td>Manager</td>\n",
       "      <td>Non-Metro</td>\n",
       "      <td>55523</td>\n",
       "      <td>3</td>\n",
       "      <td>66</td>\n",
       "      <td>19</td>\n",
       "      <td>71406.576531</td>\n",
       "    </tr>\n",
       "    <tr>\n",
       "      <th>1</th>\n",
       "      <td>2</td>\n",
       "      <td>Tier 2</td>\n",
       "      <td>Executive</td>\n",
       "      <td>Metro</td>\n",
       "      <td>57081</td>\n",
       "      <td>1</td>\n",
       "      <td>84</td>\n",
       "      <td>18</td>\n",
       "      <td>68005.870631</td>\n",
       "    </tr>\n",
       "    <tr>\n",
       "      <th>2</th>\n",
       "      <td>3</td>\n",
       "      <td>Tier 2</td>\n",
       "      <td>Executive</td>\n",
       "      <td>Metro</td>\n",
       "      <td>60347</td>\n",
       "      <td>2</td>\n",
       "      <td>52</td>\n",
       "      <td>28</td>\n",
       "      <td>76764.020277</td>\n",
       "    </tr>\n",
       "    <tr>\n",
       "      <th>3</th>\n",
       "      <td>4</td>\n",
       "      <td>Tier 3</td>\n",
       "      <td>Executive</td>\n",
       "      <td>Metro</td>\n",
       "      <td>49010</td>\n",
       "      <td>2</td>\n",
       "      <td>81</td>\n",
       "      <td>33</td>\n",
       "      <td>82092.386880</td>\n",
       "    </tr>\n",
       "    <tr>\n",
       "      <th>4</th>\n",
       "      <td>5</td>\n",
       "      <td>Tier 3</td>\n",
       "      <td>Executive</td>\n",
       "      <td>Metro</td>\n",
       "      <td>57879</td>\n",
       "      <td>4</td>\n",
       "      <td>74</td>\n",
       "      <td>32</td>\n",
       "      <td>73878.097729</td>\n",
       "    </tr>\n",
       "  </tbody>\n",
       "</table>\n",
       "</div>"
      ],
      "text/plain": [
       "   S.No. College       Role  City type  Previous CTC  Previous job changes  \\\n",
       "0      1  Tier 1    Manager  Non-Metro         55523                     3   \n",
       "1      2  Tier 2  Executive      Metro         57081                     1   \n",
       "2      3  Tier 2  Executive      Metro         60347                     2   \n",
       "3      4  Tier 3  Executive      Metro         49010                     2   \n",
       "4      5  Tier 3  Executive      Metro         57879                     4   \n",
       "\n",
       "   Graduation marks  Exp (Months)           CTC  \n",
       "0                66            19  71406.576531  \n",
       "1                84            18  68005.870631  \n",
       "2                52            28  76764.020277  \n",
       "3                81            33  82092.386880  \n",
       "4                74            32  73878.097729  "
      ]
     },
     "execution_count": 353,
     "metadata": {},
     "output_type": "execute_result"
    }
   ],
   "source": [
    "df.head(5)"
   ]
  },
  {
   "cell_type": "markdown",
   "metadata": {},
   "source": [
    "## Checking if there are null variables"
   ]
  },
  {
   "cell_type": "code",
   "execution_count": 354,
   "metadata": {},
   "outputs": [
    {
     "name": "stdout",
     "output_type": "stream",
     "text": [
      "<class 'pandas.core.frame.DataFrame'>\n",
      "RangeIndex: 1338 entries, 0 to 1337\n",
      "Data columns (total 9 columns):\n",
      " #   Column                Non-Null Count  Dtype  \n",
      "---  ------                --------------  -----  \n",
      " 0   S.No.                 1338 non-null   int64  \n",
      " 1   College               1338 non-null   object \n",
      " 2   Role                  1338 non-null   object \n",
      " 3   City type             1338 non-null   object \n",
      " 4   Previous CTC          1338 non-null   int64  \n",
      " 5   Previous job changes  1338 non-null   int64  \n",
      " 6   Graduation marks      1338 non-null   int64  \n",
      " 7   Exp (Months)          1338 non-null   int64  \n",
      " 8   CTC                   1338 non-null   float64\n",
      "dtypes: float64(1), int64(5), object(3)\n",
      "memory usage: 94.2+ KB\n"
     ]
    }
   ],
   "source": [
    "df.info()"
   ]
  },
  {
   "cell_type": "code",
   "execution_count": 355,
   "metadata": {},
   "outputs": [
    {
     "data": {
      "text/html": [
       "<div>\n",
       "<style scoped>\n",
       "    .dataframe tbody tr th:only-of-type {\n",
       "        vertical-align: middle;\n",
       "    }\n",
       "\n",
       "    .dataframe tbody tr th {\n",
       "        vertical-align: top;\n",
       "    }\n",
       "\n",
       "    .dataframe thead th {\n",
       "        text-align: right;\n",
       "    }\n",
       "</style>\n",
       "<table border=\"1\" class=\"dataframe\">\n",
       "  <thead>\n",
       "    <tr style=\"text-align: right;\">\n",
       "      <th></th>\n",
       "      <th>S.No.</th>\n",
       "      <th>Previous CTC</th>\n",
       "      <th>Previous job changes</th>\n",
       "      <th>Graduation marks</th>\n",
       "      <th>Exp (Months)</th>\n",
       "      <th>CTC</th>\n",
       "    </tr>\n",
       "  </thead>\n",
       "  <tbody>\n",
       "    <tr>\n",
       "      <th>count</th>\n",
       "      <td>1338.000000</td>\n",
       "      <td>1338.000000</td>\n",
       "      <td>1338.000000</td>\n",
       "      <td>1338.000000</td>\n",
       "      <td>1338.000000</td>\n",
       "      <td>1338.000000</td>\n",
       "    </tr>\n",
       "    <tr>\n",
       "      <th>mean</th>\n",
       "      <td>669.500000</td>\n",
       "      <td>55581.762332</td>\n",
       "      <td>2.525411</td>\n",
       "      <td>59.890882</td>\n",
       "      <td>39.207025</td>\n",
       "      <td>75459.338993</td>\n",
       "    </tr>\n",
       "    <tr>\n",
       "      <th>std</th>\n",
       "      <td>386.391641</td>\n",
       "      <td>6685.600553</td>\n",
       "      <td>1.123502</td>\n",
       "      <td>14.894696</td>\n",
       "      <td>14.049960</td>\n",
       "      <td>12551.280263</td>\n",
       "    </tr>\n",
       "    <tr>\n",
       "      <th>min</th>\n",
       "      <td>1.000000</td>\n",
       "      <td>36990.000000</td>\n",
       "      <td>1.000000</td>\n",
       "      <td>35.000000</td>\n",
       "      <td>18.000000</td>\n",
       "      <td>53020.319026</td>\n",
       "    </tr>\n",
       "    <tr>\n",
       "      <th>25%</th>\n",
       "      <td>335.250000</td>\n",
       "      <td>50547.000000</td>\n",
       "      <td>2.000000</td>\n",
       "      <td>47.000000</td>\n",
       "      <td>27.000000</td>\n",
       "      <td>66905.070033</td>\n",
       "    </tr>\n",
       "    <tr>\n",
       "      <th>50%</th>\n",
       "      <td>669.500000</td>\n",
       "      <td>55293.500000</td>\n",
       "      <td>3.000000</td>\n",
       "      <td>60.000000</td>\n",
       "      <td>39.000000</td>\n",
       "      <td>73112.640487</td>\n",
       "    </tr>\n",
       "    <tr>\n",
       "      <th>75%</th>\n",
       "      <td>1003.750000</td>\n",
       "      <td>60150.500000</td>\n",
       "      <td>4.000000</td>\n",
       "      <td>73.000000</td>\n",
       "      <td>51.000000</td>\n",
       "      <td>80747.178420</td>\n",
       "    </tr>\n",
       "    <tr>\n",
       "      <th>max</th>\n",
       "      <td>1338.000000</td>\n",
       "      <td>77911.000000</td>\n",
       "      <td>4.000000</td>\n",
       "      <td>85.000000</td>\n",
       "      <td>64.000000</td>\n",
       "      <td>123416.994271</td>\n",
       "    </tr>\n",
       "  </tbody>\n",
       "</table>\n",
       "</div>"
      ],
      "text/plain": [
       "             S.No.  Previous CTC  Previous job changes  Graduation marks  \\\n",
       "count  1338.000000   1338.000000           1338.000000       1338.000000   \n",
       "mean    669.500000  55581.762332              2.525411         59.890882   \n",
       "std     386.391641   6685.600553              1.123502         14.894696   \n",
       "min       1.000000  36990.000000              1.000000         35.000000   \n",
       "25%     335.250000  50547.000000              2.000000         47.000000   \n",
       "50%     669.500000  55293.500000              3.000000         60.000000   \n",
       "75%    1003.750000  60150.500000              4.000000         73.000000   \n",
       "max    1338.000000  77911.000000              4.000000         85.000000   \n",
       "\n",
       "       Exp (Months)            CTC  \n",
       "count   1338.000000    1338.000000  \n",
       "mean      39.207025   75459.338993  \n",
       "std       14.049960   12551.280263  \n",
       "min       18.000000   53020.319026  \n",
       "25%       27.000000   66905.070033  \n",
       "50%       39.000000   73112.640487  \n",
       "75%       51.000000   80747.178420  \n",
       "max       64.000000  123416.994271  "
      ]
     },
     "execution_count": 355,
     "metadata": {},
     "output_type": "execute_result"
    }
   ],
   "source": [
    "df.describe()"
   ]
  },
  {
   "cell_type": "code",
   "execution_count": 356,
   "metadata": {},
   "outputs": [
    {
     "data": {
      "text/html": [
       "<div>\n",
       "<style scoped>\n",
       "    .dataframe tbody tr th:only-of-type {\n",
       "        vertical-align: middle;\n",
       "    }\n",
       "\n",
       "    .dataframe tbody tr th {\n",
       "        vertical-align: top;\n",
       "    }\n",
       "\n",
       "    .dataframe thead th {\n",
       "        text-align: right;\n",
       "    }\n",
       "</style>\n",
       "<table border=\"1\" class=\"dataframe\">\n",
       "  <thead>\n",
       "    <tr style=\"text-align: right;\">\n",
       "      <th></th>\n",
       "      <th>S.No.</th>\n",
       "      <th>Previous CTC</th>\n",
       "      <th>Previous job changes</th>\n",
       "      <th>Graduation marks</th>\n",
       "      <th>Exp (Months)</th>\n",
       "      <th>CTC</th>\n",
       "    </tr>\n",
       "  </thead>\n",
       "  <tbody>\n",
       "    <tr>\n",
       "      <th>S.No.</th>\n",
       "      <td>1.000000</td>\n",
       "      <td>-0.014298</td>\n",
       "      <td>0.005475</td>\n",
       "      <td>0.000593</td>\n",
       "      <td>-0.031467</td>\n",
       "      <td>-0.022586</td>\n",
       "    </tr>\n",
       "    <tr>\n",
       "      <th>Previous CTC</th>\n",
       "      <td>-0.014298</td>\n",
       "      <td>1.000000</td>\n",
       "      <td>0.008282</td>\n",
       "      <td>-0.037170</td>\n",
       "      <td>0.117035</td>\n",
       "      <td>0.270260</td>\n",
       "    </tr>\n",
       "    <tr>\n",
       "      <th>Previous job changes</th>\n",
       "      <td>0.005475</td>\n",
       "      <td>0.008282</td>\n",
       "      <td>1.000000</td>\n",
       "      <td>0.001507</td>\n",
       "      <td>0.034137</td>\n",
       "      <td>0.007518</td>\n",
       "    </tr>\n",
       "    <tr>\n",
       "      <th>Graduation marks</th>\n",
       "      <td>0.000593</td>\n",
       "      <td>-0.037170</td>\n",
       "      <td>0.001507</td>\n",
       "      <td>1.000000</td>\n",
       "      <td>-0.065412</td>\n",
       "      <td>-0.017557</td>\n",
       "    </tr>\n",
       "    <tr>\n",
       "      <th>Exp (Months)</th>\n",
       "      <td>-0.031467</td>\n",
       "      <td>0.117035</td>\n",
       "      <td>0.034137</td>\n",
       "      <td>-0.065412</td>\n",
       "      <td>1.000000</td>\n",
       "      <td>0.301569</td>\n",
       "    </tr>\n",
       "    <tr>\n",
       "      <th>CTC</th>\n",
       "      <td>-0.022586</td>\n",
       "      <td>0.270260</td>\n",
       "      <td>0.007518</td>\n",
       "      <td>-0.017557</td>\n",
       "      <td>0.301569</td>\n",
       "      <td>1.000000</td>\n",
       "    </tr>\n",
       "  </tbody>\n",
       "</table>\n",
       "</div>"
      ],
      "text/plain": [
       "                         S.No.  Previous CTC  Previous job changes  \\\n",
       "S.No.                 1.000000     -0.014298              0.005475   \n",
       "Previous CTC         -0.014298      1.000000              0.008282   \n",
       "Previous job changes  0.005475      0.008282              1.000000   \n",
       "Graduation marks      0.000593     -0.037170              0.001507   \n",
       "Exp (Months)         -0.031467      0.117035              0.034137   \n",
       "CTC                  -0.022586      0.270260              0.007518   \n",
       "\n",
       "                      Graduation marks  Exp (Months)       CTC  \n",
       "S.No.                         0.000593     -0.031467 -0.022586  \n",
       "Previous CTC                 -0.037170      0.117035  0.270260  \n",
       "Previous job changes          0.001507      0.034137  0.007518  \n",
       "Graduation marks              1.000000     -0.065412 -0.017557  \n",
       "Exp (Months)                 -0.065412      1.000000  0.301569  \n",
       "CTC                          -0.017557      0.301569  1.000000  "
      ]
     },
     "execution_count": 356,
     "metadata": {},
     "output_type": "execute_result"
    }
   ],
   "source": [
    "# Correlation analysis\n",
    "df.corr()"
   ]
  },
  {
   "cell_type": "markdown",
   "metadata": {},
   "source": [
    "#### We can clearly analyse that Previous CTC and Exp (Months) are effecting the CTC value very much"
   ]
  },
  {
   "cell_type": "code",
   "execution_count": 357,
   "metadata": {},
   "outputs": [
    {
     "data": {
      "text/plain": [
       "<seaborn.axisgrid.FacetGrid at 0x18981aaff70>"
      ]
     },
     "execution_count": 357,
     "metadata": {},
     "output_type": "execute_result"
    },
    {
     "data": {
      "image/png": "[encoded data removed]",
      "text/plain": [
       "<Figure size 360x360 with 1 Axes>"
      ]
     },
     "metadata": {
      "needs_background": "light"
     },
     "output_type": "display_data"
    }
   ],
   "source": [
    "sns.displot(df[\"Previous CTC\"], bins = 12, kde = True)"
   ]
  },
  {
   "cell_type": "markdown",
   "metadata": {},
   "source": [
    "### Outlier Analysis on CTC"
   ]
  },
  {
   "cell_type": "code",
   "execution_count": 358,
   "metadata": {},
   "outputs": [
    {
     "data": {
      "text/plain": [
       "<seaborn.axisgrid.FacetGrid at 0x18981b08cd0>"
      ]
     },
     "execution_count": 358,
     "metadata": {},
     "output_type": "execute_result"
    },
    {
     "data": {
      "image/png": "[encoded data removed]",
      "text/plain": [
       "<Figure size 360x360 with 1 Axes>"
      ]
     },
     "metadata": {
      "needs_background": "light"
     },
     "output_type": "display_data"
    }
   ],
   "source": [
    "sns.displot(df[\"CTC\"], bins = 12, kde = True)"
   ]
  },
  {
   "cell_type": "code",
   "execution_count": 359,
   "metadata": {},
   "outputs": [
    {
     "data": {
      "text/plain": [
       "<AxesSubplot:ylabel='CTC'>"
      ]
     },
     "execution_count": 359,
     "metadata": {},
     "output_type": "execute_result"
    },
    {
     "data": {
      "image/png": "[encoded data removed]",
      "text/plain": [
       "<Figure size 432x288 with 1 Axes>"
      ]
     },
     "metadata": {
      "needs_background": "light"
     },
     "output_type": "display_data"
    }
   ],
   "source": [
    "sns.scatterplot(x = df[\"CTC\"].index, y = df[\"CTC\"])"
   ]
  },
  {
   "cell_type": "code",
   "execution_count": 360,
   "metadata": {},
   "outputs": [
    {
     "data": {
      "text/plain": [
       "<AxesSubplot:xlabel='CTC'>"
      ]
     },
     "execution_count": 360,
     "metadata": {},
     "output_type": "execute_result"
    },
    {
     "data": {
      "image/png": "[encoded data removed]",
      "text/plain": [
       "<Figure size 432x288 with 1 Axes>"
      ]
     },
     "metadata": {
      "needs_background": "light"
     },
     "output_type": "display_data"
    }
   ],
   "source": [
    "sns.boxplot(x = df[\"CTC\"])"
   ]
  },
  {
   "cell_type": "markdown",
   "metadata": {},
   "source": [
    "#### Looks like everything is normal on CTC column, except several values, but they are not much outlier values, so I won't do any preprocessing here"
   ]
  },
  {
   "cell_type": "markdown",
   "metadata": {},
   "source": [
    "### Outlier Analysis on Exp(Months)"
   ]
  },
  {
   "cell_type": "code",
   "execution_count": 361,
   "metadata": {},
   "outputs": [
    {
     "data": {
      "text/plain": [
       "<seaborn.axisgrid.FacetGrid at 0x18981c7dee0>"
      ]
     },
     "execution_count": 361,
     "metadata": {},
     "output_type": "execute_result"
    },
    {
     "data": {
      "image/png": "[encoded data removed]",
      "text/plain": [
       "<Figure size 360x360 with 1 Axes>"
      ]
     },
     "metadata": {
      "needs_background": "light"
     },
     "output_type": "display_data"
    }
   ],
   "source": [
    "sns.displot(data = df[\"Exp (Months)\"], kde = True)"
   ]
  },
  {
   "cell_type": "code",
   "execution_count": 362,
   "metadata": {},
   "outputs": [
    {
     "data": {
      "text/plain": [
       "<AxesSubplot:ylabel='Exp (Months)'>"
      ]
     },
     "execution_count": 362,
     "metadata": {},
     "output_type": "execute_result"
    },
    {
     "data": {
      "image/png": "[encoded data removed]",
      "text/plain": [
       "<Figure size 432x288 with 1 Axes>"
      ]
     },
     "metadata": {
      "needs_background": "light"
     },
     "output_type": "display_data"
    }
   ],
   "source": [
    "sns.scatterplot(x = df[\"Exp (Months)\"].index, y = df[\"Exp (Months)\"])"
   ]
  },
  {
   "cell_type": "markdown",
   "metadata": {},
   "source": [
    "#### Looks like everything is normal on Exp (Months) column"
   ]
  },
  {
   "cell_type": "code",
   "execution_count": 363,
   "metadata": {},
   "outputs": [
    {
     "data": {
      "text/plain": [
       "<AxesSubplot:xlabel='Role', ylabel='CTC'>"
      ]
     },
     "execution_count": 363,
     "metadata": {},
     "output_type": "execute_result"
    },
    {
     "data": {
      "image/png": "[encoded data removed]",
      "text/plain": [
       "<Figure size 432x288 with 1 Axes>"
      ]
     },
     "metadata": {
      "needs_background": "light"
     },
     "output_type": "display_data"
    }
   ],
   "source": [
    "sns.barplot(x = df[\"Role\"], y = df[\"CTC\"], hue = df[\"College\"])"
   ]
  },
  {
   "cell_type": "markdown",
   "metadata": {},
   "source": [
    "#### Tier also effects the salary, but i was expecting it to be more effective"
   ]
  },
  {
   "cell_type": "markdown",
   "metadata": {},
   "source": [
    "### Does city type effects the salary?"
   ]
  },
  {
   "cell_type": "code",
   "execution_count": 364,
   "metadata": {},
   "outputs": [
    {
     "data": {
      "text/plain": [
       "<seaborn.axisgrid.FacetGrid at 0x18981d8cac0>"
      ]
     },
     "execution_count": 364,
     "metadata": {},
     "output_type": "execute_result"
    },
    {
     "data": {
      "image/png": "[encoded data removed]",
      "text/plain": [
       "<Figure size 360x360 with 1 Axes>"
      ]
     },
     "metadata": {
      "needs_background": "light"
     },
     "output_type": "display_data"
    }
   ],
   "source": [
    "sns.catplot(x = \"City type\", y = \"CTC\", data = df)"
   ]
  },
  {
   "cell_type": "code",
   "execution_count": 365,
   "metadata": {},
   "outputs": [
    {
     "data": {
      "text/plain": [
       "<AxesSubplot:xlabel='Role', ylabel='CTC'>"
      ]
     },
     "execution_count": 365,
     "metadata": {},
     "output_type": "execute_result"
    },
    {
     "data": {
      "image/png": "[encoded data removed]",
      "text/plain": [
       "<Figure size 432x288 with 1 Axes>"
      ]
     },
     "metadata": {
      "needs_background": "light"
     },
     "output_type": "display_data"
    }
   ],
   "source": [
    "sns.barplot(x = df[\"Role\"], y = df[\"CTC\"], hue = df[\"City type\"])"
   ]
  },
  {
   "cell_type": "code",
   "execution_count": 366,
   "metadata": {},
   "outputs": [
    {
     "data": {
      "text/html": [
       "<div>\n",
       "<style scoped>\n",
       "    .dataframe tbody tr th:only-of-type {\n",
       "        vertical-align: middle;\n",
       "    }\n",
       "\n",
       "    .dataframe tbody tr th {\n",
       "        vertical-align: top;\n",
       "    }\n",
       "\n",
       "    .dataframe thead th {\n",
       "        text-align: right;\n",
       "    }\n",
       "</style>\n",
       "<table border=\"1\" class=\"dataframe\">\n",
       "  <thead>\n",
       "    <tr style=\"text-align: right;\">\n",
       "      <th></th>\n",
       "      <th>S.No.</th>\n",
       "      <th>College</th>\n",
       "      <th>Role</th>\n",
       "      <th>City type</th>\n",
       "      <th>Previous CTC</th>\n",
       "      <th>Previous job changes</th>\n",
       "      <th>Graduation marks</th>\n",
       "      <th>Exp (Months)</th>\n",
       "      <th>CTC</th>\n",
       "    </tr>\n",
       "  </thead>\n",
       "  <tbody>\n",
       "    <tr>\n",
       "      <th>0</th>\n",
       "      <td>1</td>\n",
       "      <td>Tier 1</td>\n",
       "      <td>Manager</td>\n",
       "      <td>Non-Metro</td>\n",
       "      <td>55523</td>\n",
       "      <td>3</td>\n",
       "      <td>66</td>\n",
       "      <td>19</td>\n",
       "      <td>71406.576531</td>\n",
       "    </tr>\n",
       "    <tr>\n",
       "      <th>1</th>\n",
       "      <td>2</td>\n",
       "      <td>Tier 2</td>\n",
       "      <td>Executive</td>\n",
       "      <td>Metro</td>\n",
       "      <td>57081</td>\n",
       "      <td>1</td>\n",
       "      <td>84</td>\n",
       "      <td>18</td>\n",
       "      <td>68005.870631</td>\n",
       "    </tr>\n",
       "    <tr>\n",
       "      <th>2</th>\n",
       "      <td>3</td>\n",
       "      <td>Tier 2</td>\n",
       "      <td>Executive</td>\n",
       "      <td>Metro</td>\n",
       "      <td>60347</td>\n",
       "      <td>2</td>\n",
       "      <td>52</td>\n",
       "      <td>28</td>\n",
       "      <td>76764.020277</td>\n",
       "    </tr>\n",
       "    <tr>\n",
       "      <th>3</th>\n",
       "      <td>4</td>\n",
       "      <td>Tier 3</td>\n",
       "      <td>Executive</td>\n",
       "      <td>Metro</td>\n",
       "      <td>49010</td>\n",
       "      <td>2</td>\n",
       "      <td>81</td>\n",
       "      <td>33</td>\n",
       "      <td>82092.386880</td>\n",
       "    </tr>\n",
       "    <tr>\n",
       "      <th>4</th>\n",
       "      <td>5</td>\n",
       "      <td>Tier 3</td>\n",
       "      <td>Executive</td>\n",
       "      <td>Metro</td>\n",
       "      <td>57879</td>\n",
       "      <td>4</td>\n",
       "      <td>74</td>\n",
       "      <td>32</td>\n",
       "      <td>73878.097729</td>\n",
       "    </tr>\n",
       "  </tbody>\n",
       "</table>\n",
       "</div>"
      ],
      "text/plain": [
       "   S.No. College       Role  City type  Previous CTC  Previous job changes  \\\n",
       "0      1  Tier 1    Manager  Non-Metro         55523                     3   \n",
       "1      2  Tier 2  Executive      Metro         57081                     1   \n",
       "2      3  Tier 2  Executive      Metro         60347                     2   \n",
       "3      4  Tier 3  Executive      Metro         49010                     2   \n",
       "4      5  Tier 3  Executive      Metro         57879                     4   \n",
       "\n",
       "   Graduation marks  Exp (Months)           CTC  \n",
       "0                66            19  71406.576531  \n",
       "1                84            18  68005.870631  \n",
       "2                52            28  76764.020277  \n",
       "3                81            33  82092.386880  \n",
       "4                74            32  73878.097729  "
      ]
     },
     "execution_count": 366,
     "metadata": {},
     "output_type": "execute_result"
    }
   ],
   "source": [
    "df.head(5)"
   ]
  },
  {
   "cell_type": "markdown",
   "metadata": {},
   "source": [
    "#### Now, we can understand that having metro is effective on the CTC"
   ]
  },
  {
   "cell_type": "markdown",
   "metadata": {},
   "source": [
    "## Preprocessing"
   ]
  },
  {
   "cell_type": "code",
   "execution_count": 367,
   "metadata": {},
   "outputs": [],
   "source": [
    "from sklearn.preprocessing import LabelEncoder # Data Transformation"
   ]
  },
  {
   "cell_type": "code",
   "execution_count": 368,
   "metadata": {},
   "outputs": [],
   "source": [
    "lbe = LabelEncoder()\n",
    "\n",
    "df[\"Role_Manager\"] = lbe.fit_transform(df[\"Role\"])\n",
    "df[\"City_Metro\"] = lbe.fit_transform(df[\"City type\"])\n",
    "df = pd.get_dummies(df, columns = [\"College\"], prefix = [\"College\"])\n",
    " \n",
    "df.drop([\"Role\", \"City type\"],axis = 1, inplace = True)"
   ]
  },
  {
   "cell_type": "code",
   "execution_count": 369,
   "metadata": {},
   "outputs": [
    {
     "data": {
      "text/html": [
       "<div>\n",
       "<style scoped>\n",
       "    .dataframe tbody tr th:only-of-type {\n",
       "        vertical-align: middle;\n",
       "    }\n",
       "\n",
       "    .dataframe tbody tr th {\n",
       "        vertical-align: top;\n",
       "    }\n",
       "\n",
       "    .dataframe thead th {\n",
       "        text-align: right;\n",
       "    }\n",
       "</style>\n",
       "<table border=\"1\" class=\"dataframe\">\n",
       "  <thead>\n",
       "    <tr style=\"text-align: right;\">\n",
       "      <th></th>\n",
       "      <th>S.No.</th>\n",
       "      <th>Previous CTC</th>\n",
       "      <th>Previous job changes</th>\n",
       "      <th>Graduation marks</th>\n",
       "      <th>Exp (Months)</th>\n",
       "      <th>CTC</th>\n",
       "      <th>Role_Manager</th>\n",
       "      <th>City_Metro</th>\n",
       "      <th>College_Tier 1</th>\n",
       "      <th>College_Tier 2</th>\n",
       "      <th>College_Tier 3</th>\n",
       "    </tr>\n",
       "  </thead>\n",
       "  <tbody>\n",
       "    <tr>\n",
       "      <th>0</th>\n",
       "      <td>1</td>\n",
       "      <td>55523</td>\n",
       "      <td>3</td>\n",
       "      <td>66</td>\n",
       "      <td>19</td>\n",
       "      <td>71406.576531</td>\n",
       "      <td>1</td>\n",
       "      <td>1</td>\n",
       "      <td>1</td>\n",
       "      <td>0</td>\n",
       "      <td>0</td>\n",
       "    </tr>\n",
       "    <tr>\n",
       "      <th>1</th>\n",
       "      <td>2</td>\n",
       "      <td>57081</td>\n",
       "      <td>1</td>\n",
       "      <td>84</td>\n",
       "      <td>18</td>\n",
       "      <td>68005.870631</td>\n",
       "      <td>0</td>\n",
       "      <td>0</td>\n",
       "      <td>0</td>\n",
       "      <td>1</td>\n",
       "      <td>0</td>\n",
       "    </tr>\n",
       "    <tr>\n",
       "      <th>2</th>\n",
       "      <td>3</td>\n",
       "      <td>60347</td>\n",
       "      <td>2</td>\n",
       "      <td>52</td>\n",
       "      <td>28</td>\n",
       "      <td>76764.020277</td>\n",
       "      <td>0</td>\n",
       "      <td>0</td>\n",
       "      <td>0</td>\n",
       "      <td>1</td>\n",
       "      <td>0</td>\n",
       "    </tr>\n",
       "    <tr>\n",
       "      <th>3</th>\n",
       "      <td>4</td>\n",
       "      <td>49010</td>\n",
       "      <td>2</td>\n",
       "      <td>81</td>\n",
       "      <td>33</td>\n",
       "      <td>82092.386880</td>\n",
       "      <td>0</td>\n",
       "      <td>0</td>\n",
       "      <td>0</td>\n",
       "      <td>0</td>\n",
       "      <td>1</td>\n",
       "    </tr>\n",
       "    <tr>\n",
       "      <th>4</th>\n",
       "      <td>5</td>\n",
       "      <td>57879</td>\n",
       "      <td>4</td>\n",
       "      <td>74</td>\n",
       "      <td>32</td>\n",
       "      <td>73878.097729</td>\n",
       "      <td>0</td>\n",
       "      <td>0</td>\n",
       "      <td>0</td>\n",
       "      <td>0</td>\n",
       "      <td>1</td>\n",
       "    </tr>\n",
       "  </tbody>\n",
       "</table>\n",
       "</div>"
      ],
      "text/plain": [
       "   S.No.  Previous CTC  Previous job changes  Graduation marks  Exp (Months)  \\\n",
       "0      1         55523                     3                66            19   \n",
       "1      2         57081                     1                84            18   \n",
       "2      3         60347                     2                52            28   \n",
       "3      4         49010                     2                81            33   \n",
       "4      5         57879                     4                74            32   \n",
       "\n",
       "            CTC  Role_Manager  City_Metro  College_Tier 1  College_Tier 2  \\\n",
       "0  71406.576531             1           1               1               0   \n",
       "1  68005.870631             0           0               0               1   \n",
       "2  76764.020277             0           0               0               1   \n",
       "3  82092.386880             0           0               0               0   \n",
       "4  73878.097729             0           0               0               0   \n",
       "\n",
       "   College_Tier 3  \n",
       "0               0  \n",
       "1               0  \n",
       "2               0  \n",
       "3               1  \n",
       "4               1  "
      ]
     },
     "execution_count": 369,
     "metadata": {},
     "output_type": "execute_result"
    }
   ],
   "source": [
    "df.head(5)"
   ]
  },
  {
   "cell_type": "code",
   "execution_count": 370,
   "metadata": {},
   "outputs": [],
   "source": [
    "trainX = df.drop([\"CTC\", \"S.No.\"], axis = 1)\n",
    "trainY = df[\"CTC\"]"
   ]
  },
  {
   "cell_type": "markdown",
   "metadata": {},
   "source": [
    "## Using different methods on data"
   ]
  },
  {
   "cell_type": "code",
   "execution_count": 371,
   "metadata": {},
   "outputs": [],
   "source": [
    "from sklearn.preprocessing import MinMaxScaler\n",
    "from sklearn.preprocessing import normalize\n",
    "from sklearn.preprocessing import StandardScaler\n",
    "\n",
    "trainX_minMaxScaled = trainX.copy()\n",
    "trainX_Normalized = trainX.copy()\n",
    "trainX_StandardScaled = trainX.copy()"
   ]
  },
  {
   "cell_type": "code",
   "execution_count": 372,
   "metadata": {},
   "outputs": [],
   "source": [
    "minMaxScaler = MinMaxScaler(feature_range = (0,1))\n",
    "trainX_minMaxScaled = minMaxScaler.fit_transform(trainX_minMaxScaled)\n",
    "\n",
    "trainX_Normalized = normalize(trainX_Normalized)\n",
    "\n",
    "standardScaler = StandardScaler()\n",
    "trainX_StandardScaled = standardScaler.fit_transform(trainX_StandardScaled)"
   ]
  },
  {
   "cell_type": "markdown",
   "metadata": {},
   "source": [
    "## Test Data Preprocessing"
   ]
  },
  {
   "cell_type": "code",
   "execution_count": 373,
   "metadata": {},
   "outputs": [
    {
     "data": {
      "text/html": [
       "<div>\n",
       "<style scoped>\n",
       "    .dataframe tbody tr th:only-of-type {\n",
       "        vertical-align: middle;\n",
       "    }\n",
       "\n",
       "    .dataframe tbody tr th {\n",
       "        vertical-align: top;\n",
       "    }\n",
       "\n",
       "    .dataframe thead th {\n",
       "        text-align: right;\n",
       "    }\n",
       "</style>\n",
       "<table border=\"1\" class=\"dataframe\">\n",
       "  <thead>\n",
       "    <tr style=\"text-align: right;\">\n",
       "      <th></th>\n",
       "      <th>College</th>\n",
       "      <th>Role</th>\n",
       "      <th>City type</th>\n",
       "      <th>College_T1</th>\n",
       "      <th>College_T2</th>\n",
       "      <th>Role_Manager</th>\n",
       "      <th>City_Metro</th>\n",
       "      <th>previous CTC</th>\n",
       "      <th>previous job changes</th>\n",
       "      <th>Graduation marks</th>\n",
       "      <th>Exp</th>\n",
       "      <th>Actual CTC</th>\n",
       "      <th>Predicted CTC</th>\n",
       "    </tr>\n",
       "  </thead>\n",
       "  <tbody>\n",
       "    <tr>\n",
       "      <th>0</th>\n",
       "      <td>Tier 1</td>\n",
       "      <td>Manager</td>\n",
       "      <td>Non-Metro</td>\n",
       "      <td>1</td>\n",
       "      <td>0</td>\n",
       "      <td>1</td>\n",
       "      <td>0</td>\n",
       "      <td>55523</td>\n",
       "      <td>3</td>\n",
       "      <td>66</td>\n",
       "      <td>19</td>\n",
       "      <td>71406.576531</td>\n",
       "      <td>NaN</td>\n",
       "    </tr>\n",
       "    <tr>\n",
       "      <th>1</th>\n",
       "      <td>Tier 2</td>\n",
       "      <td>Executive</td>\n",
       "      <td>Metro</td>\n",
       "      <td>0</td>\n",
       "      <td>1</td>\n",
       "      <td>0</td>\n",
       "      <td>1</td>\n",
       "      <td>57081</td>\n",
       "      <td>1</td>\n",
       "      <td>84</td>\n",
       "      <td>18</td>\n",
       "      <td>68005.870631</td>\n",
       "      <td>NaN</td>\n",
       "    </tr>\n",
       "    <tr>\n",
       "      <th>2</th>\n",
       "      <td>Tier 2</td>\n",
       "      <td>Executive</td>\n",
       "      <td>Metro</td>\n",
       "      <td>0</td>\n",
       "      <td>1</td>\n",
       "      <td>0</td>\n",
       "      <td>1</td>\n",
       "      <td>60347</td>\n",
       "      <td>2</td>\n",
       "      <td>52</td>\n",
       "      <td>28</td>\n",
       "      <td>76764.020277</td>\n",
       "      <td>NaN</td>\n",
       "    </tr>\n",
       "    <tr>\n",
       "      <th>3</th>\n",
       "      <td>Tier 3</td>\n",
       "      <td>Executive</td>\n",
       "      <td>Metro</td>\n",
       "      <td>0</td>\n",
       "      <td>0</td>\n",
       "      <td>0</td>\n",
       "      <td>1</td>\n",
       "      <td>49010</td>\n",
       "      <td>2</td>\n",
       "      <td>81</td>\n",
       "      <td>33</td>\n",
       "      <td>82092.386880</td>\n",
       "      <td>NaN</td>\n",
       "    </tr>\n",
       "    <tr>\n",
       "      <th>4</th>\n",
       "      <td>Tier 3</td>\n",
       "      <td>Executive</td>\n",
       "      <td>Metro</td>\n",
       "      <td>0</td>\n",
       "      <td>0</td>\n",
       "      <td>0</td>\n",
       "      <td>1</td>\n",
       "      <td>57879</td>\n",
       "      <td>4</td>\n",
       "      <td>74</td>\n",
       "      <td>32</td>\n",
       "      <td>73878.097729</td>\n",
       "      <td>NaN</td>\n",
       "    </tr>\n",
       "  </tbody>\n",
       "</table>\n",
       "</div>"
      ],
      "text/plain": [
       "  College       Role  City type  College_T1  College_T2  Role_Manager  \\\n",
       "0  Tier 1    Manager  Non-Metro           1           0             1   \n",
       "1  Tier 2  Executive      Metro           0           1             0   \n",
       "2  Tier 2  Executive      Metro           0           1             0   \n",
       "3  Tier 3  Executive      Metro           0           0             0   \n",
       "4  Tier 3  Executive      Metro           0           0             0   \n",
       "\n",
       "   City_Metro  previous CTC  previous job changes  Graduation marks  Exp  \\\n",
       "0           0         55523                     3                66   19   \n",
       "1           1         57081                     1                84   18   \n",
       "2           1         60347                     2                52   28   \n",
       "3           1         49010                     2                81   33   \n",
       "4           1         57879                     4                74   32   \n",
       "\n",
       "     Actual CTC  Predicted CTC  \n",
       "0  71406.576531            NaN  \n",
       "1  68005.870631            NaN  \n",
       "2  76764.020277            NaN  \n",
       "3  82092.386880            NaN  \n",
       "4  73878.097729            NaN  "
      ]
     },
     "execution_count": 373,
     "metadata": {},
     "output_type": "execute_result"
    }
   ],
   "source": [
    "test = pd.read_excel(\"Data/Test_data_file.xlsx\")\n",
    "test.head(5)"
   ]
  },
  {
   "cell_type": "code",
   "execution_count": 374,
   "metadata": {},
   "outputs": [],
   "source": [
    "test.drop([\"College\", \"Role\", \"City type\"], axis = 1, inplace = True)  # Removing duplicate columns"
   ]
  },
  {
   "cell_type": "code",
   "execution_count": 375,
   "metadata": {},
   "outputs": [],
   "source": [
    "test[\"College_T3\"] = None  # Since the data hasn't got Column College_T3, let's make it by our hand"
   ]
  },
  {
   "cell_type": "code",
   "execution_count": 376,
   "metadata": {},
   "outputs": [
    {
     "name": "stderr",
     "output_type": "stream",
     "text": [
      "<ipython-input-376-46de22f23ace>:5: SettingWithCopyWarning: \n",
      "A value is trying to be set on a copy of a slice from a DataFrame\n",
      "\n",
      "See the caveats in the documentation: https://pandas.pydata.org/pandas-docs/stable/user_guide/indexing.html#returning-a-view-versus-a-copy\n",
      "  test[\"College_T3\"][row] = 0\n",
      "<ipython-input-376-46de22f23ace>:3: SettingWithCopyWarning: \n",
      "A value is trying to be set on a copy of a slice from a DataFrame\n",
      "\n",
      "See the caveats in the documentation: https://pandas.pydata.org/pandas-docs/stable/user_guide/indexing.html#returning-a-view-versus-a-copy\n",
      "  test[\"College_T3\"][row] = 1\n"
     ]
    }
   ],
   "source": [
    "for row in range(len(test)):\n",
    "    if ((test[\"College_T1\"][row] == 0) and (test[\"College_T2\"][row] == 0)):\n",
    "        test[\"College_T3\"][row] = 1\n",
    "    else:\n",
    "        test[\"College_T3\"][row] = 0\n",
    "\n",
    "# Filling the T3 by comparing the T1 and T2\n",
    "# If both T1 and T2 are 0, then T3 must be 1, in other scenarios, T3 can't be 1"
   ]
  },
  {
   "cell_type": "code",
   "execution_count": 377,
   "metadata": {},
   "outputs": [
    {
     "data": {
      "text/html": [
       "<div>\n",
       "<style scoped>\n",
       "    .dataframe tbody tr th:only-of-type {\n",
       "        vertical-align: middle;\n",
       "    }\n",
       "\n",
       "    .dataframe tbody tr th {\n",
       "        vertical-align: top;\n",
       "    }\n",
       "\n",
       "    .dataframe thead th {\n",
       "        text-align: right;\n",
       "    }\n",
       "</style>\n",
       "<table border=\"1\" class=\"dataframe\">\n",
       "  <thead>\n",
       "    <tr style=\"text-align: right;\">\n",
       "      <th></th>\n",
       "      <th>College_T1</th>\n",
       "      <th>College_T2</th>\n",
       "      <th>Role_Manager</th>\n",
       "      <th>City_Metro</th>\n",
       "      <th>previous CTC</th>\n",
       "      <th>previous job changes</th>\n",
       "      <th>Graduation marks</th>\n",
       "      <th>Exp</th>\n",
       "      <th>Actual CTC</th>\n",
       "      <th>Predicted CTC</th>\n",
       "      <th>College_T3</th>\n",
       "    </tr>\n",
       "  </thead>\n",
       "  <tbody>\n",
       "    <tr>\n",
       "      <th>0</th>\n",
       "      <td>1</td>\n",
       "      <td>0</td>\n",
       "      <td>1</td>\n",
       "      <td>0</td>\n",
       "      <td>55523</td>\n",
       "      <td>3</td>\n",
       "      <td>66</td>\n",
       "      <td>19</td>\n",
       "      <td>71406.576531</td>\n",
       "      <td>NaN</td>\n",
       "      <td>0</td>\n",
       "    </tr>\n",
       "    <tr>\n",
       "      <th>1</th>\n",
       "      <td>0</td>\n",
       "      <td>1</td>\n",
       "      <td>0</td>\n",
       "      <td>1</td>\n",
       "      <td>57081</td>\n",
       "      <td>1</td>\n",
       "      <td>84</td>\n",
       "      <td>18</td>\n",
       "      <td>68005.870631</td>\n",
       "      <td>NaN</td>\n",
       "      <td>0</td>\n",
       "    </tr>\n",
       "    <tr>\n",
       "      <th>2</th>\n",
       "      <td>0</td>\n",
       "      <td>1</td>\n",
       "      <td>0</td>\n",
       "      <td>1</td>\n",
       "      <td>60347</td>\n",
       "      <td>2</td>\n",
       "      <td>52</td>\n",
       "      <td>28</td>\n",
       "      <td>76764.020277</td>\n",
       "      <td>NaN</td>\n",
       "      <td>0</td>\n",
       "    </tr>\n",
       "    <tr>\n",
       "      <th>3</th>\n",
       "      <td>0</td>\n",
       "      <td>0</td>\n",
       "      <td>0</td>\n",
       "      <td>1</td>\n",
       "      <td>49010</td>\n",
       "      <td>2</td>\n",
       "      <td>81</td>\n",
       "      <td>33</td>\n",
       "      <td>82092.386880</td>\n",
       "      <td>NaN</td>\n",
       "      <td>1</td>\n",
       "    </tr>\n",
       "    <tr>\n",
       "      <th>4</th>\n",
       "      <td>0</td>\n",
       "      <td>0</td>\n",
       "      <td>0</td>\n",
       "      <td>1</td>\n",
       "      <td>57879</td>\n",
       "      <td>4</td>\n",
       "      <td>74</td>\n",
       "      <td>32</td>\n",
       "      <td>73878.097729</td>\n",
       "      <td>NaN</td>\n",
       "      <td>1</td>\n",
       "    </tr>\n",
       "  </tbody>\n",
       "</table>\n",
       "</div>"
      ],
      "text/plain": [
       "   College_T1  College_T2  Role_Manager  City_Metro  previous CTC  \\\n",
       "0           1           0             1           0         55523   \n",
       "1           0           1             0           1         57081   \n",
       "2           0           1             0           1         60347   \n",
       "3           0           0             0           1         49010   \n",
       "4           0           0             0           1         57879   \n",
       "\n",
       "   previous job changes  Graduation marks  Exp    Actual CTC  Predicted CTC  \\\n",
       "0                     3                66   19  71406.576531            NaN   \n",
       "1                     1                84   18  68005.870631            NaN   \n",
       "2                     2                52   28  76764.020277            NaN   \n",
       "3                     2                81   33  82092.386880            NaN   \n",
       "4                     4                74   32  73878.097729            NaN   \n",
       "\n",
       "  College_T3  \n",
       "0          0  \n",
       "1          0  \n",
       "2          0  \n",
       "3          1  \n",
       "4          1  "
      ]
     },
     "execution_count": 377,
     "metadata": {},
     "output_type": "execute_result"
    }
   ],
   "source": [
    "test.head(5)"
   ]
  },
  {
   "cell_type": "code",
   "execution_count": 378,
   "metadata": {},
   "outputs": [
    {
     "name": "stdout",
     "output_type": "stream",
     "text": [
      "<class 'pandas.core.frame.DataFrame'>\n",
      "RangeIndex: 1338 entries, 0 to 1337\n",
      "Data columns (total 11 columns):\n",
      " #   Column                Non-Null Count  Dtype  \n",
      "---  ------                --------------  -----  \n",
      " 0   College_T1            1338 non-null   int64  \n",
      " 1   College_T2            1338 non-null   int64  \n",
      " 2   Role_Manager          1338 non-null   int64  \n",
      " 3   City_Metro            1338 non-null   int64  \n",
      " 4   previous CTC          1338 non-null   int64  \n",
      " 5   previous job changes  1338 non-null   int64  \n",
      " 6   Graduation marks      1338 non-null   int64  \n",
      " 7   Exp                   1338 non-null   int64  \n",
      " 8   Actual CTC            1338 non-null   float64\n",
      " 9   Predicted CTC         0 non-null      float64\n",
      " 10  College_T3            1338 non-null   object \n",
      "dtypes: float64(2), int64(8), object(1)\n",
      "memory usage: 115.1+ KB\n"
     ]
    }
   ],
   "source": [
    "test.info()"
   ]
  },
  {
   "cell_type": "code",
   "execution_count": 379,
   "metadata": {},
   "outputs": [],
   "source": [
    "test[\"College_T3\"] = test[\"College_T3\"].astype(\"int64\")  # Let's change it's datatype from Object to Integer"
   ]
  },
  {
   "cell_type": "code",
   "execution_count": 380,
   "metadata": {},
   "outputs": [],
   "source": [
    "# We should make the list order as the same with train data\n",
    "test = test.reindex(columns=[\"previous CTC\", \"previous job changes\", \"Graduation marks\", \"Exp\", \"Role_Manager\", \"City_Metro\", \"College_T1\", \"College_T2\", \"College_T3\", \"Actual CTC\", \"Predicted CTC\"])"
   ]
  },
  {
   "cell_type": "code",
   "execution_count": 381,
   "metadata": {},
   "outputs": [
    {
     "data": {
      "text/html": [
       "<div>\n",
       "<style scoped>\n",
       "    .dataframe tbody tr th:only-of-type {\n",
       "        vertical-align: middle;\n",
       "    }\n",
       "\n",
       "    .dataframe tbody tr th {\n",
       "        vertical-align: top;\n",
       "    }\n",
       "\n",
       "    .dataframe thead th {\n",
       "        text-align: right;\n",
       "    }\n",
       "</style>\n",
       "<table border=\"1\" class=\"dataframe\">\n",
       "  <thead>\n",
       "    <tr style=\"text-align: right;\">\n",
       "      <th></th>\n",
       "      <th>previous CTC</th>\n",
       "      <th>previous job changes</th>\n",
       "      <th>Graduation marks</th>\n",
       "      <th>Exp</th>\n",
       "      <th>Role_Manager</th>\n",
       "      <th>City_Metro</th>\n",
       "      <th>College_T1</th>\n",
       "      <th>College_T2</th>\n",
       "      <th>College_T3</th>\n",
       "      <th>Actual CTC</th>\n",
       "      <th>Predicted CTC</th>\n",
       "    </tr>\n",
       "  </thead>\n",
       "  <tbody>\n",
       "    <tr>\n",
       "      <th>0</th>\n",
       "      <td>55523</td>\n",
       "      <td>3</td>\n",
       "      <td>66</td>\n",
       "      <td>19</td>\n",
       "      <td>1</td>\n",
       "      <td>0</td>\n",
       "      <td>1</td>\n",
       "      <td>0</td>\n",
       "      <td>0</td>\n",
       "      <td>71406.576531</td>\n",
       "      <td>NaN</td>\n",
       "    </tr>\n",
       "    <tr>\n",
       "      <th>1</th>\n",
       "      <td>57081</td>\n",
       "      <td>1</td>\n",
       "      <td>84</td>\n",
       "      <td>18</td>\n",
       "      <td>0</td>\n",
       "      <td>1</td>\n",
       "      <td>0</td>\n",
       "      <td>1</td>\n",
       "      <td>0</td>\n",
       "      <td>68005.870631</td>\n",
       "      <td>NaN</td>\n",
       "    </tr>\n",
       "    <tr>\n",
       "      <th>2</th>\n",
       "      <td>60347</td>\n",
       "      <td>2</td>\n",
       "      <td>52</td>\n",
       "      <td>28</td>\n",
       "      <td>0</td>\n",
       "      <td>1</td>\n",
       "      <td>0</td>\n",
       "      <td>1</td>\n",
       "      <td>0</td>\n",
       "      <td>76764.020277</td>\n",
       "      <td>NaN</td>\n",
       "    </tr>\n",
       "    <tr>\n",
       "      <th>3</th>\n",
       "      <td>49010</td>\n",
       "      <td>2</td>\n",
       "      <td>81</td>\n",
       "      <td>33</td>\n",
       "      <td>0</td>\n",
       "      <td>1</td>\n",
       "      <td>0</td>\n",
       "      <td>0</td>\n",
       "      <td>1</td>\n",
       "      <td>82092.386880</td>\n",
       "      <td>NaN</td>\n",
       "    </tr>\n",
       "    <tr>\n",
       "      <th>4</th>\n",
       "      <td>57879</td>\n",
       "      <td>4</td>\n",
       "      <td>74</td>\n",
       "      <td>32</td>\n",
       "      <td>0</td>\n",
       "      <td>1</td>\n",
       "      <td>0</td>\n",
       "      <td>0</td>\n",
       "      <td>1</td>\n",
       "      <td>73878.097729</td>\n",
       "      <td>NaN</td>\n",
       "    </tr>\n",
       "  </tbody>\n",
       "</table>\n",
       "</div>"
      ],
      "text/plain": [
       "   previous CTC  previous job changes  Graduation marks  Exp  Role_Manager  \\\n",
       "0         55523                     3                66   19             1   \n",
       "1         57081                     1                84   18             0   \n",
       "2         60347                     2                52   28             0   \n",
       "3         49010                     2                81   33             0   \n",
       "4         57879                     4                74   32             0   \n",
       "\n",
       "   City_Metro  College_T1  College_T2  College_T3    Actual CTC  Predicted CTC  \n",
       "0           0           1           0           0  71406.576531            NaN  \n",
       "1           1           0           1           0  68005.870631            NaN  \n",
       "2           1           0           1           0  76764.020277            NaN  \n",
       "3           1           0           0           1  82092.386880            NaN  \n",
       "4           1           0           0           1  73878.097729            NaN  "
      ]
     },
     "execution_count": 381,
     "metadata": {},
     "output_type": "execute_result"
    }
   ],
   "source": [
    "test.head()"
   ]
  },
  {
   "cell_type": "code",
   "execution_count": 382,
   "metadata": {},
   "outputs": [],
   "source": [
    "testX = test.drop([\"Predicted CTC\", \"Actual CTC\"], axis = 1)\n",
    "testY = test[\"Actual CTC\"]"
   ]
  },
  {
   "cell_type": "code",
   "execution_count": 383,
   "metadata": {},
   "outputs": [],
   "source": [
    "testX_minMaxScaled = testX.copy()\n",
    "testX_Normalized = testX.copy()\n",
    "testX_StandardScaled = testX.copy()\n",
    "\n",
    "minMaxScaler = MinMaxScaler(feature_range = (0,1))\n",
    "testX_minMaxScaled = minMaxScaler.fit_transform(testX_minMaxScaled)\n",
    "\n",
    "testX_Normalized = normalize(testX_Normalized)\n",
    "\n",
    "standardScaler = StandardScaler()\n",
    "testX_StandardScaled = standardScaler.fit_transform(testX_StandardScaled)"
   ]
  },
  {
   "cell_type": "markdown",
   "metadata": {},
   "source": [
    "## Modelling"
   ]
  },
  {
   "cell_type": "code",
   "execution_count": 384,
   "metadata": {},
   "outputs": [],
   "source": [
    "from sklearn.linear_model import LinearRegression\n",
    "from sklearn.linear_model import Ridge\n",
    "from sklearn.linear_model import Lasso\n",
    "from sklearn.linear_model import ElasticNet\n",
    "from xgboost import XGBRegressor\n",
    "from sklearn.ensemble import BaggingRegressor\n",
    "from sklearn.ensemble import RandomForestRegressor\n",
    "from sklearn.neighbors import KNeighborsRegressor\n",
    "from sklearn.svm import SVR"
   ]
  },
  {
   "cell_type": "code",
   "execution_count": 385,
   "metadata": {},
   "outputs": [],
   "source": [
    "reg = [\"Linear Regression\", LinearRegression()]\n",
    "ridge = [\"Ridge\", Ridge()]\n",
    "lasso = [\"Lasso\", Lasso()]\n",
    "elasticNet = [\"Elastic Net\", ElasticNet()]\n",
    "xgboost = [\"XGBoost\",XGBRegressor()]\n",
    "baggingReg = [\"BaggingReg\",BaggingRegressor()]\n",
    "randomF = [\"Random Forest\", RandomForestRegressor()]\n",
    "knn = [KNeighborsRegressor(n_neighbors = n) for n in range(3,8)]  # We can pick the best model by iterating the n value between 3-8\n",
    "svc = [SVR(), SVR(kernel = \"linear\"), SVR(kernel = \"poly\"), SVR(kernel = \"sigmoid\")]  # Different kernels for SVM"
   ]
  },
  {
   "cell_type": "code",
   "execution_count": 386,
   "metadata": {},
   "outputs": [],
   "source": [
    "singleModels = [reg, ridge, lasso, elasticNet, xgboost, baggingReg, randomF]  # I will make this part with loops mostly in order to save time"
   ]
  },
  {
   "cell_type": "code",
   "execution_count": 388,
   "metadata": {},
   "outputs": [],
   "source": [
    "# A simple function to display R2 and MSA score of the models\n",
    "\n",
    "from sklearn.metrics import r2_score\n",
    "from sklearn.metrics import mean_absolute_error\n",
    "def statistics(yTrue, pred):\n",
    "    print(f\"R2 score: {round(r2_score(yTrue, pred), 3)}\\nMAE: {mean_absolute_error(yTrue, pred)}\\n----------------\")"
   ]
  },
  {
   "cell_type": "code",
   "execution_count": 389,
   "metadata": {},
   "outputs": [],
   "source": [
    "# A simple function to run the models in the \"singlemodels\" list\n",
    "def runModel(models, trainX,  testX, trainY = trainY, testY = testY):\n",
    "    results = []   # I will keep the top 3 scores in here, since we have many models, no need to show all the scores\n",
    "    for model in models:\n",
    "        print(f\"*{model[0]}*\")  # Model Name\n",
    "        model[1].fit(trainX, trainY)   # The model is at index 1 in the list\n",
    "        pred = model[1].predict(testX)\n",
    "        statistics(testY, pred)"
   ]
  },
  {
   "cell_type": "code",
   "execution_count": 390,
   "metadata": {},
   "outputs": [
    {
     "name": "stdout",
     "output_type": "stream",
     "text": [
      "*Linear Regression*\n",
      "R2 score: 0.504\n",
      "MAE: 6932.6178992741025\n",
      "----------------\n",
      "*Ridge*\n",
      "R2 score: 0.502\n",
      "MAE: 6944.210830938486\n",
      "----------------\n",
      "*Lasso*\n",
      "R2 score: 0.502\n",
      "MAE: 6944.016293057512\n",
      "----------------\n",
      "*Elastic Net*\n",
      "R2 score: 0.459\n",
      "MAE: 7211.4138702743785\n",
      "----------------\n",
      "*XGBoost*\n",
      "R2 score: 0.821\n",
      "MAE: 4369.807578142598\n",
      "----------------\n",
      "*BaggingReg*\n",
      "R2 score: 0.66\n",
      "MAE: 5645.2551798050445\n",
      "----------------\n",
      "*Random Forest*\n",
      "R2 score: 0.687\n",
      "MAE: 5467.606296752493\n",
      "----------------\n"
     ]
    }
   ],
   "source": [
    "# With StandardScaled\n",
    "runModel(singleModels, trainX_StandardScaled, testX_StandardScaled)"
   ]
  },
  {
   "cell_type": "code",
   "execution_count": 391,
   "metadata": {},
   "outputs": [
    {
     "name": "stdout",
     "output_type": "stream",
     "text": [
      "*Linear Regression*\n",
      "R2 score: 0.502\n",
      "MAE: 6941.885096885311\n",
      "----------------\n",
      "*Ridge*\n",
      "R2 score: 0.502\n",
      "MAE: 6944.872559802345\n",
      "----------------\n",
      "*Lasso*\n",
      "R2 score: 0.502\n",
      "MAE: 6941.2909464315635\n",
      "----------------\n",
      "*Elastic Net*\n",
      "R2 score: 0.192\n",
      "MAE: 8592.378513378064\n",
      "----------------\n",
      "*XGBoost*\n",
      "R2 score: 0.821\n",
      "MAE: 4371.547557371229\n",
      "----------------\n",
      "*BaggingReg*\n",
      "R2 score: 0.634\n",
      "MAE: 5891.581535099924\n",
      "----------------\n",
      "*Random Forest*\n",
      "R2 score: 0.691\n",
      "MAE: 5448.540589952722\n",
      "----------------\n"
     ]
    }
   ],
   "source": [
    "# With MinMaxScaled\n",
    "runModel(singleModels, trainX_minMaxScaled, testX_minMaxScaled)"
   ]
  },
  {
   "cell_type": "code",
   "execution_count": 392,
   "metadata": {},
   "outputs": [
    {
     "name": "stdout",
     "output_type": "stream",
     "text": [
      "*Linear Regression*\n",
      "R2 score: 0.439\n",
      "MAE: 7404.0505150332\n",
      "----------------\n",
      "*Ridge*\n",
      "R2 score: 0.0\n",
      "MAE: 9528.441961478746\n",
      "----------------\n",
      "*Lasso*\n",
      "R2 score: 0.0\n",
      "MAE: 9528.511912454978\n",
      "----------------\n",
      "*Elastic Net*\n",
      "R2 score: 0.0\n",
      "MAE: 9528.511893047296\n",
      "----------------\n",
      "*XGBoost*\n",
      "R2 score: 0.813\n",
      "MAE: 4345.576076033924\n",
      "----------------\n",
      "*BaggingReg*\n",
      "R2 score: 0.659\n",
      "MAE: 5589.030326698367\n",
      "----------------\n",
      "*Random Forest*\n",
      "R2 score: 0.668\n",
      "MAE: 5560.1801549657175\n",
      "----------------\n"
     ]
    }
   ],
   "source": [
    "# With Normalized\n",
    "runModel(singleModels, trainX_Normalized, testX_Normalized)"
   ]
  },
  {
   "cell_type": "markdown",
   "metadata": {},
   "source": [
    "#### Conclusion so far,\n",
    "#### XGBoost looks the best model so far, all data versions(MinMax, Scaled, Normalized) fits well to it, but StandardScaled data wins with a small difference"
   ]
  },
  {
   "cell_type": "markdown",
   "metadata": {},
   "source": [
    "### KNN"
   ]
  },
  {
   "cell_type": "code",
   "execution_count": 393,
   "metadata": {},
   "outputs": [],
   "source": [
    "# The same model function for knn version, since knn and svm has multiple models inside in the list, we should iterate them differently than --\n",
    "# the models above\n",
    "\n",
    "def runKNN(models, trainX,  testX, trainY = trainY, testY = testY):\n",
    "    for n in range(len(models)):\n",
    "        print(f\"n = {models[n].n_neighbors}\")  # Index is smaller by 1 from the order as we know\n",
    "        models[n].fit(trainX, trainY)\n",
    "        pred = models[n].predict(testX)\n",
    "        statistics(testY, pred)"
   ]
  },
  {
   "cell_type": "code",
   "execution_count": 394,
   "metadata": {},
   "outputs": [
    {
     "name": "stdout",
     "output_type": "stream",
     "text": [
      "n = 3\n",
      "R2 score: 0.47\n",
      "MAE: 7216.5739912035515\n",
      "----------------\n",
      "n = 4\n",
      "R2 score: 0.507\n",
      "MAE: 7019.470644397792\n",
      "----------------\n",
      "n = 5\n",
      "R2 score: 0.519\n",
      "MAE: 6932.981524372158\n",
      "----------------\n",
      "n = 6\n",
      "R2 score: 0.527\n",
      "MAE: 6834.4517983629385\n",
      "----------------\n",
      "n = 7\n",
      "R2 score: 0.532\n",
      "MAE: 6792.320023987078\n",
      "----------------\n"
     ]
    }
   ],
   "source": [
    "# With StandardScaled\n",
    "runKNN(knn, trainX_StandardScaled, testX_StandardScaled)"
   ]
  },
  {
   "cell_type": "code",
   "execution_count": 395,
   "metadata": {},
   "outputs": [
    {
     "name": "stdout",
     "output_type": "stream",
     "text": [
      "n = 3\n",
      "R2 score: 0.398\n",
      "MAE: 7657.961760522814\n",
      "----------------\n",
      "n = 4\n",
      "R2 score: 0.439\n",
      "MAE: 7430.16834081331\n",
      "----------------\n",
      "n = 5\n",
      "R2 score: 0.452\n",
      "MAE: 7334.294241730528\n",
      "----------------\n",
      "n = 6\n",
      "R2 score: 0.459\n",
      "MAE: 7238.010830380457\n",
      "----------------\n",
      "n = 7\n",
      "R2 score: 0.461\n",
      "MAE: 7239.8912455116915\n",
      "----------------\n"
     ]
    }
   ],
   "source": [
    "# With MinMaxScaled\n",
    "runKNN(knn, trainX_minMaxScaled, testX_minMaxScaled)"
   ]
  },
  {
   "cell_type": "code",
   "execution_count": 396,
   "metadata": {},
   "outputs": [
    {
     "name": "stdout",
     "output_type": "stream",
     "text": [
      "n = 3\n",
      "R2 score: 0.447\n",
      "MAE: 7051.50806948854\n",
      "----------------\n",
      "n = 4\n",
      "R2 score: 0.357\n",
      "MAE: 7573.196107001624\n",
      "----------------\n",
      "n = 5\n",
      "R2 score: 0.321\n",
      "MAE: 7799.5102985534395\n",
      "----------------\n",
      "n = 6\n",
      "R2 score: 0.282\n",
      "MAE: 8061.922044414361\n",
      "----------------\n",
      "n = 7\n",
      "R2 score: 0.264\n",
      "MAE: 8140.766500298432\n",
      "----------------\n"
     ]
    }
   ],
   "source": [
    "# With Normalized\n",
    "runKNN(knn, trainX_Normalized, testX_Normalized)"
   ]
  },
  {
   "cell_type": "markdown",
   "metadata": {},
   "source": [
    "#### Conclusion for KNN,\n",
    "#### It looks like Normalized data is not suitable for KNN at all\n",
    "#### StandardScaled data with KNN n = 7 looks the best among all in KNN, but still not better than XGBoost"
   ]
  },
  {
   "cell_type": "markdown",
   "metadata": {},
   "source": [
    "### SVM"
   ]
  },
  {
   "cell_type": "code",
   "execution_count": 397,
   "metadata": {},
   "outputs": [],
   "source": [
    "# The same model function for SVM version\n",
    "\n",
    "def runSVM(models, trainX,  testX, trainY = trainY, testY = testY):\n",
    "    for n in range(len(models)):\n",
    "        print(f\"Kernel = {models[n].kernel}\")  # Index is smaller by 1 from the order as we know\n",
    "        models[n].fit(trainX, trainY)\n",
    "        pred = models[n].predict(testX)\n",
    "        statistics(testY, pred)"
   ]
  },
  {
   "cell_type": "code",
   "execution_count": 398,
   "metadata": {},
   "outputs": [
    {
     "name": "stdout",
     "output_type": "stream",
     "text": [
      "Kernel = rbf\n",
      "R2 score: -0.033\n",
      "MAE: 9294.38563381458\n",
      "----------------\n",
      "Kernel = linear\n",
      "R2 score: 0.049\n",
      "MAE: 8902.946079601737\n",
      "----------------\n",
      "Kernel = poly\n",
      "R2 score: -0.031\n",
      "MAE: 9290.238792361612\n",
      "----------------\n",
      "Kernel = sigmoid\n",
      "R2 score: -0.027\n",
      "MAE: 9267.92965545253\n",
      "----------------\n"
     ]
    }
   ],
   "source": [
    "# With StandardScaled\n",
    "runSVM(svc, trainX_StandardScaled, testX_StandardScaled)"
   ]
  },
  {
   "cell_type": "code",
   "execution_count": 399,
   "metadata": {},
   "outputs": [
    {
     "name": "stdout",
     "output_type": "stream",
     "text": [
      "Kernel = rbf\n",
      "R2 score: -0.033\n",
      "MAE: 9295.031006105475\n",
      "----------------\n",
      "Kernel = linear\n",
      "R2 score: -0.025\n",
      "MAE: 9253.126474058869\n",
      "----------------\n",
      "Kernel = poly\n",
      "R2 score: 0.016\n",
      "MAE: 9079.580293935123\n",
      "----------------\n",
      "Kernel = sigmoid\n",
      "R2 score: -0.033\n",
      "MAE: 9300.070864484213\n",
      "----------------\n"
     ]
    }
   ],
   "source": [
    "# With MinMaxScaled\n",
    "runSVM(svc, trainX_minMaxScaled, testX_minMaxScaled)"
   ]
  },
  {
   "cell_type": "code",
   "execution_count": 400,
   "metadata": {},
   "outputs": [
    {
     "name": "stdout",
     "output_type": "stream",
     "text": [
      "Kernel = rbf\n",
      "R2 score: -0.035\n",
      "MAE: 9312.080479760096\n",
      "----------------\n",
      "Kernel = linear\n",
      "R2 score: -0.035\n",
      "MAE: 9312.080488722846\n",
      "----------------\n",
      "Kernel = poly\n",
      "R2 score: -0.035\n",
      "MAE: 9312.080465242234\n",
      "----------------\n",
      "Kernel = sigmoid\n",
      "R2 score: -0.035\n",
      "MAE: 9312.080493107218\n",
      "----------------\n"
     ]
    }
   ],
   "source": [
    "# With Normalized\n",
    "runSVM(svc, trainX_Normalized, testX_Normalized)"
   ]
  },
  {
   "cell_type": "markdown",
   "metadata": {},
   "source": [
    "#### Conclusion for SVM\n",
    "#### As we see, most of the R2 scores in the models are negative or so small(Almost 0), this means the data doesn't fit well to this model\n",
    "#### So SVM can be eliminated directly"
   ]
  },
  {
   "cell_type": "markdown",
   "metadata": {},
   "source": [
    "## General Conclusion for Models\n",
    "\n",
    "#### Looks like XGBoost with StandardScaled data has the best score, so I will continue with it for final part"
   ]
  },
  {
   "cell_type": "code",
   "execution_count": 503,
   "metadata": {},
   "outputs": [
    {
     "name": "stdout",
     "output_type": "stream",
     "text": [
      "R2 score: 0.821\n",
      "MAE: 4369.807578142598\n",
      "----------------\n"
     ]
    }
   ],
   "source": [
    "xgboostModel = XGBRegressor()\n",
    "xgboostModel.fit(trainX_StandardScaled, trainY)\n",
    "preds = xgboostModel.predict(testX_StandardScaled)\n",
    "statistics(testY, preds)"
   ]
  },
  {
   "cell_type": "markdown",
   "metadata": {},
   "source": [
    "## Model Tuning with RandomizedSearchCV"
   ]
  },
  {
   "cell_type": "code",
   "execution_count": 491,
   "metadata": {},
   "outputs": [],
   "source": [
    "from sklearn.model_selection import RandomizedSearchCV\n",
    "\n",
    "params = {\n",
    " \"learning_rate\" : [0.05,0.10,0.20,0.3,0.35, 0.4],\n",
    " \"max_depth\" : [3, 4, 5, 6, 8, 10],\n",
    " \"min_child_weight\" : [1, 3, 5],\n",
    " \"gamma\": [0, 0.1, 0.2, 0.3],\n",
    " \"colsample_bytree\" : [0.5, 1],\n",
    " \"n_estimators\": [100, 200, 500]\n",
    "}\n",
    "xgb = XGBRegressor()\n",
    "\n",
    "rsModel=RandomizedSearchCV(xgb,param_distributions=params,n_iter=5,scoring='roc_auc',n_jobs=-1,cv=5,verbose=3)\n"
   ]
  },
  {
   "cell_type": "code",
   "execution_count": 493,
   "metadata": {},
   "outputs": [
    {
     "name": "stdout",
     "output_type": "stream",
     "text": [
      "Fitting 5 folds for each of 5 candidates, totalling 25 fits\n"
     ]
    },
    {
     "data": {
      "text/plain": [
       "RandomizedSearchCV(cv=5,\n",
       "                   estimator=XGBRegressor(base_score=None, booster=None,\n",
       "                                          callbacks=None,\n",
       "                                          colsample_bylevel=None,\n",
       "                                          colsample_bynode=None,\n",
       "                                          colsample_bytree=None,\n",
       "                                          early_stopping_rounds=None,\n",
       "                                          enable_categorical=False,\n",
       "                                          eval_metric=None, gamma=None,\n",
       "                                          gpu_id=None, grow_policy=None,\n",
       "                                          importance_type=None,\n",
       "                                          interaction_constraints=None,\n",
       "                                          learning_rate=None, max_bin=None,\n",
       "                                          m...\n",
       "                                          n_estimators=100, n_jobs=None,\n",
       "                                          num_parallel_tree=None,\n",
       "                                          predictor=None, random_state=None,\n",
       "                                          reg_alpha=None, reg_lambda=None, ...),\n",
       "                   n_iter=5, n_jobs=-1,\n",
       "                   param_distributions={'colsample_bytree': [0.5, 1],\n",
       "                                        'gamma': [0, 0.1, 0.2, 0.3],\n",
       "                                        'learning_rate': [0.05, 0.1, 0.2, 0.3,\n",
       "                                                          0.35, 0.4],\n",
       "                                        'max_depth': [3, 4, 5, 6, 8, 10],\n",
       "                                        'min_child_weight': [1, 3, 5],\n",
       "                                        'n_estimators': [100, 200, 500]},\n",
       "                   scoring='roc_auc', verbose=3)"
      ]
     },
     "execution_count": 493,
     "metadata": {},
     "output_type": "execute_result"
    }
   ],
   "source": [
    "rsModel.fit(trainX_Normalized, trainY)"
   ]
  },
  {
   "cell_type": "code",
   "execution_count": 494,
   "metadata": {},
   "outputs": [
    {
     "data": {
      "text/plain": [
       "{'n_estimators': 500,\n",
       " 'min_child_weight': 5,\n",
       " 'max_depth': 6,\n",
       " 'learning_rate': 0.4,\n",
       " 'gamma': 0.3,\n",
       " 'colsample_bytree': 0.5}"
      ]
     },
     "execution_count": 494,
     "metadata": {},
     "output_type": "execute_result"
    }
   ],
   "source": [
    "rsModel.best_params_"
   ]
  },
  {
   "cell_type": "code",
   "execution_count": 495,
   "metadata": {},
   "outputs": [
    {
     "name": "stdout",
     "output_type": "stream",
     "text": [
      "R2 score: 0.831\n",
      "MAE: 4235.275137461927\n",
      "----------------\n"
     ]
    }
   ],
   "source": [
    "xgbTuned = XGBRegressor(colsample_bytree = 0.5,\n",
    " learning_rate = 0.4,\n",
    " max_depth = 6,\n",
    " n_estimators = 500,\n",
    " gamma = 0.3,\n",
    " min_child_weight = 5\n",
    " )\n",
    "\n",
    "xgbTuned.fit(trainX_Normalized, trainY)\n",
    "pred = xgbTuned.predict(testX_Normalized)\n",
    "\n",
    "statistics(testY, pred)"
   ]
  },
  {
   "cell_type": "markdown",
   "metadata": {},
   "source": [
    "#### After Tuning:\n",
    "#### R2 Score increased by: 0.01\n",
    "#### MAE score decrased by: 134\n",
    "\n",
    "#### Not a effective difference but better"
   ]
  },
  {
   "cell_type": "code",
   "execution_count": 504,
   "metadata": {},
   "outputs": [],
   "source": [
    "result = test.copy()"
   ]
  },
  {
   "cell_type": "markdown",
   "metadata": {},
   "source": [
    "### Inserting the predictions to the rows"
   ]
  },
  {
   "cell_type": "code",
   "execution_count": 505,
   "metadata": {},
   "outputs": [
    {
     "name": "stderr",
     "output_type": "stream",
     "text": [
      "<ipython-input-505-d5f20d12df76>:2: SettingWithCopyWarning: \n",
      "A value is trying to be set on a copy of a slice from a DataFrame\n",
      "\n",
      "See the caveats in the documentation: https://pandas.pydata.org/pandas-docs/stable/user_guide/indexing.html#returning-a-view-versus-a-copy\n",
      "  result[\"Predicted CTC\"][index] = pred[index]\n"
     ]
    }
   ],
   "source": [
    "for index in range(len(result)):\n",
    "    result[\"Predicted CTC\"][index] = pred[index]"
   ]
  },
  {
   "cell_type": "code",
   "execution_count": 506,
   "metadata": {},
   "outputs": [
    {
     "data": {
      "text/html": [
       "<div>\n",
       "<style scoped>\n",
       "    .dataframe tbody tr th:only-of-type {\n",
       "        vertical-align: middle;\n",
       "    }\n",
       "\n",
       "    .dataframe tbody tr th {\n",
       "        vertical-align: top;\n",
       "    }\n",
       "\n",
       "    .dataframe thead th {\n",
       "        text-align: right;\n",
       "    }\n",
       "</style>\n",
       "<table border=\"1\" class=\"dataframe\">\n",
       "  <thead>\n",
       "    <tr style=\"text-align: right;\">\n",
       "      <th></th>\n",
       "      <th>previous CTC</th>\n",
       "      <th>previous job changes</th>\n",
       "      <th>Graduation marks</th>\n",
       "      <th>Exp</th>\n",
       "      <th>Role_Manager</th>\n",
       "      <th>City_Metro</th>\n",
       "      <th>College_T1</th>\n",
       "      <th>College_T2</th>\n",
       "      <th>College_T3</th>\n",
       "      <th>Actual CTC</th>\n",
       "      <th>Predicted CTC</th>\n",
       "    </tr>\n",
       "  </thead>\n",
       "  <tbody>\n",
       "    <tr>\n",
       "      <th>0</th>\n",
       "      <td>55523</td>\n",
       "      <td>3</td>\n",
       "      <td>66</td>\n",
       "      <td>19</td>\n",
       "      <td>1</td>\n",
       "      <td>0</td>\n",
       "      <td>1</td>\n",
       "      <td>0</td>\n",
       "      <td>0</td>\n",
       "      <td>71406.576531</td>\n",
       "      <td>83032.968750</td>\n",
       "    </tr>\n",
       "    <tr>\n",
       "      <th>1</th>\n",
       "      <td>57081</td>\n",
       "      <td>1</td>\n",
       "      <td>84</td>\n",
       "      <td>18</td>\n",
       "      <td>0</td>\n",
       "      <td>1</td>\n",
       "      <td>0</td>\n",
       "      <td>1</td>\n",
       "      <td>0</td>\n",
       "      <td>68005.870631</td>\n",
       "      <td>63032.562500</td>\n",
       "    </tr>\n",
       "    <tr>\n",
       "      <th>2</th>\n",
       "      <td>60347</td>\n",
       "      <td>2</td>\n",
       "      <td>52</td>\n",
       "      <td>28</td>\n",
       "      <td>0</td>\n",
       "      <td>1</td>\n",
       "      <td>0</td>\n",
       "      <td>1</td>\n",
       "      <td>0</td>\n",
       "      <td>76764.020277</td>\n",
       "      <td>72274.601562</td>\n",
       "    </tr>\n",
       "    <tr>\n",
       "      <th>3</th>\n",
       "      <td>49010</td>\n",
       "      <td>2</td>\n",
       "      <td>81</td>\n",
       "      <td>33</td>\n",
       "      <td>0</td>\n",
       "      <td>1</td>\n",
       "      <td>0</td>\n",
       "      <td>0</td>\n",
       "      <td>1</td>\n",
       "      <td>82092.386880</td>\n",
       "      <td>78552.781250</td>\n",
       "    </tr>\n",
       "    <tr>\n",
       "      <th>4</th>\n",
       "      <td>57879</td>\n",
       "      <td>4</td>\n",
       "      <td>74</td>\n",
       "      <td>32</td>\n",
       "      <td>0</td>\n",
       "      <td>1</td>\n",
       "      <td>0</td>\n",
       "      <td>0</td>\n",
       "      <td>1</td>\n",
       "      <td>73878.097729</td>\n",
       "      <td>68946.187500</td>\n",
       "    </tr>\n",
       "  </tbody>\n",
       "</table>\n",
       "</div>"
      ],
      "text/plain": [
       "   previous CTC  previous job changes  Graduation marks  Exp  Role_Manager  \\\n",
       "0         55523                     3                66   19             1   \n",
       "1         57081                     1                84   18             0   \n",
       "2         60347                     2                52   28             0   \n",
       "3         49010                     2                81   33             0   \n",
       "4         57879                     4                74   32             0   \n",
       "\n",
       "   City_Metro  College_T1  College_T2  College_T3    Actual CTC  Predicted CTC  \n",
       "0           0           1           0           0  71406.576531   83032.968750  \n",
       "1           1           0           1           0  68005.870631   63032.562500  \n",
       "2           1           0           1           0  76764.020277   72274.601562  \n",
       "3           1           0           0           1  82092.386880   78552.781250  \n",
       "4           1           0           0           1  73878.097729   68946.187500  "
      ]
     },
     "execution_count": 506,
     "metadata": {},
     "output_type": "execute_result"
    }
   ],
   "source": [
    "result.head(5)"
   ]
  },
  {
   "cell_type": "markdown",
   "metadata": {},
   "source": [
    "### Converting the result dataframe to the excel file and uploading it to current directory"
   ]
  },
  {
   "cell_type": "code",
   "execution_count": 507,
   "metadata": {},
   "outputs": [],
   "source": [
    "result.to_excel(\"output.xlsx\")"
   ]
  }
 ],
 "metadata": {
  "interpreter": {
   "hash": "acc445ed76b03b8c9884111bd121077e6fc875a783f85be4b3a133bfc13ec331"
  },
  "kernelspec": {
   "display_name": "Python 3.8.7 64-bit",
   "language": "python",
   "name": "python3"
  },
  "language_info": {
   "codemirror_mode": {
    "name": "ipython",
    "version": 3
   },
   "file_extension": ".py",
   "mimetype": "text/x-python",
   "name": "python",
   "nbconvert_exporter": "python",
   "pygments_lexer": "ipython3",
   "version": "3.8.7"
  },
  "orig_nbformat": 4
 },
 "nbformat": 4,
 "nbformat_minor": 2
}
